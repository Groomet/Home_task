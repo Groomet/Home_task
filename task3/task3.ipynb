{
 "cells": [
  {
   "cell_type": "code",
   "execution_count": 1,
   "metadata": {},
   "outputs": [],
   "source": [
    "# Стандартные библиотеки\n",
    "import os\n",
    "import random\n",
    "import re\n",
    "\n",
    "# Библиотеки работы с данными и изображениями\n",
    "import cv2\n",
    "import numpy as np\n",
    "from PIL import Image\n",
    "from skimage.feature import hog\n",
    "\n",
    "# Машинное обучение и анализ данных\n",
    "from sklearn.model_selection import train_test_split\n",
    "from sklearn.neighbors import KNeighborsClassifier\n",
    "from sklearn.metrics import accuracy_score\n",
    "\n",
    "# Визуализация\n",
    "import matplotlib.pyplot as plt"
   ]
  },
  {
   "cell_type": "markdown",
   "metadata": {},
   "source": [
    "Используя набор данных data, сгенерируйте последовательность символов вида\n",
    "наличие/отсутствие открывающейся скобки, число/буква, знак операции,\n",
    "число/буква, наличие/отсутствие закрывающейся скобки"
   ]
  },
  {
   "cell_type": "code",
   "execution_count": 2,
   "metadata": {},
   "outputs": [
    {
     "name": "stdout",
     "output_type": "stream",
     "text": [
      "5+w)\n",
      "(X-3\n",
      "6+0\n",
      "(X+h\n",
      "(Xtimes6)\n"
     ]
    }
   ],
   "source": [
    "def generate_expression(\n",
    "    digits: list[str] = ['0', '1', '2', '3', '4', '5', '6', '7', '8', '9'],\n",
    "    letters: list[str] = ['h', 'w', 'X', 'y'],\n",
    "    operations: list[str] = ['+', '-', 'times'],\n",
    ") -> list[str]:\n",
    "    \"\"\"\n",
    "    Генерирует случайное выражение в виде списка токенов.\n",
    "    \n",
    "    Каждое выражение состоит из:\n",
    "    - левого операнда (цифра или буква),\n",
    "    - операции (+, -, times),\n",
    "    - правого операнда (цифра или буква),\n",
    "    - опциональных скобок в начале и/или конце.\n",
    "    \n",
    "    Returns:\n",
    "        list[str]: Список строк, представляющих выражение.\n",
    "    \"\"\"\n",
    "    tokens = []\n",
    "\n",
    "    left = random.choice(digits + letters)\n",
    "    op = random.choice(operations)\n",
    "    right = random.choice(digits + letters)\n",
    "\n",
    "    tokens.extend([left, op, right])\n",
    "\n",
    "    if random.choice([True, False]):\n",
    "        tokens.insert(0, '(')\n",
    "    if random.choice([True, False]):\n",
    "        tokens.append(')')\n",
    "\n",
    "    return tokens\n",
    "\n",
    "\n",
    "# Пример использования\n",
    "for _ in range(5):\n",
    "    expression = generate_expression()\n",
    "    print(''.join(expression))"
   ]
  },
  {
   "cell_type": "markdown",
   "metadata": {},
   "source": [
    "# b. Символы соответствую классам данных архива data.\n",
    "# c. На основе сгененированной последовательности создайте последовательность изображений символов, где каждому символу соотвествует случайное изображение набора данных соотвествующего класса."
   ]
  },
  {
   "cell_type": "code",
   "execution_count": 3,
   "metadata": {},
   "outputs": [],
   "source": [
    "from pathlib import Path\n",
    "\n",
    "\n",
    "def get_random_image(folder_name: str) -> Image.Image:\n",
    "    \"\"\"\n",
    "    Возвращает случайное изображение из указанной папки.\n",
    "\n",
    "    Args:\n",
    "        folder_name (str): Название подпапки внутри директории 'data',\n",
    "                           содержащей изображения.\n",
    "\n",
    "    Returns:\n",
    "        Image.Image: Открытое изображение с помощью библиотеки PIL.\n",
    "\n",
    "    Raises:\n",
    "        ValueError: Если папка не существует или не содержит изображений.\n",
    "    \"\"\"\n",
    "    data_dir = Path.cwd() / 'data' / folder_name\n",
    "    folder_path = data_dir.resolve()\n",
    "\n",
    "    if not folder_path.exists():\n",
    "        raise ValueError(f\"Папка {folder_path} не существует\")\n",
    "\n",
    "    image_files = [f for f in folder_path.iterdir() if f.suffix.lower() in ('.png', '.jpg', '.jpeg')]\n",
    "    if not image_files:\n",
    "        raise ValueError(f\"В папке {folder_path} нет изображений\")\n",
    "\n",
    "    return Image.open(random.choice(image_files))"
   ]
  },
  {
   "cell_type": "code",
   "execution_count": 4,
   "metadata": {},
   "outputs": [
    {
     "name": "stdout",
     "output_type": "stream",
     "text": [
      "Сгенерированное выражение: 8-1)\n"
     ]
    },
    {
     "data": {
      "image/png": "[encoded data removed]",
      "text/plain": [
       "<Figure size 1500x500 with 1 Axes>"
      ]
     },
     "metadata": {},
     "output_type": "display_data"
    },
    {
     "data": {
      "image/jpeg": "[encoded data removed]",
      "image/png": "[encoded data removed]",
      "text/plain": [
       "<PIL.Image.Image image mode=RGB size=180x45>"
      ]
     },
     "execution_count": 4,
     "metadata": {},
     "output_type": "execute_result"
    }
   ],
   "source": [
    "def generate_expression_with_images(tokens: list[str], save_path = None) -> Image.Image:\n",
    "    \"\"\"\n",
    "    Генерирует объединённое изображение из случайных картинок,\n",
    "    соответствующих каждому символу в выражении.\n",
    "\n",
    "    Args:\n",
    "        tokens (list[str]): Список символов (токенов), представляющих выражение.\n",
    "        save_path (Optional[str]): Путь для сохранения результата (если указан).\n",
    "\n",
    "    Returns:\n",
    "        Image.Image: Объединённое изображение выражения.\n",
    "    \"\"\"\n",
    "    # Загружаем случайные изображения для каждого токена\n",
    "    images = [get_random_image(sym) for sym in tokens]\n",
    "\n",
    "    # Вычисляем размеры итогового изображения\n",
    "    total_width = sum(img.width for img in images)\n",
    "    max_height = max(img.height for img in images)\n",
    "\n",
    "    # Создаем новое белое изображение\n",
    "    combined_image = Image.new('RGB', (total_width, max_height), 'white')\n",
    "\n",
    "    # Вклеиваем каждое изображение по порядку\n",
    "    x_offset = 0\n",
    "    for img in images:\n",
    "        combined_image.paste(img, (x_offset, 0))\n",
    "        x_offset += img.width\n",
    "\n",
    "    # Отображаем результат\n",
    "    plt.figure(figsize=(15, 5))\n",
    "    plt.imshow(combined_image)\n",
    "    plt.axis('off')\n",
    "    plt.show()\n",
    "\n",
    "    # Сохраняем, если указан путь\n",
    "    if save_path:\n",
    "        combined_image.save(save_path)\n",
    "        print(f\"Изображение сохранено в {save_path}\")\n",
    "\n",
    "    return combined_image\n",
    "\n",
    "\n",
    "# Пример использования\n",
    "expr = generate_expression()\n",
    "print(f\"Сгенерированное выражение: {''.join(expr)}\")\n",
    "generate_expression_with_images(expr)"
   ]
  },
  {
   "cell_type": "markdown",
   "metadata": {},
   "source": [
    "# d. Обучите метод knn для обучающей последовательности. Для обучающей выборки выберите 10-20 изображений каждого класса.\n"
   ]
  },
  {
   "cell_type": "code",
   "execution_count": 5,
   "metadata": {},
   "outputs": [
    {
     "name": "stdout",
     "output_type": "stream",
     "text": [
      "Точность на отложенной выборке: 0.795\n"
     ]
    }
   ],
   "source": [
    "def load_images_from_folder_hog(\n",
    "    folder_path: str,\n",
    "    label: str,\n",
    "    limit: int = 20,\n",
    "    size: tuple[int, int] = (45, 45)\n",
    ") -> list[tuple[np.ndarray, str]]:\n",
    "    \"\"\"\n",
    "    Загружает изображения из указанной папки и извлекает HOG-признаки.\n",
    "\n",
    "    Args:\n",
    "        folder_path (str): Путь к папке с изображениями.\n",
    "        label (str): Метка класса для всех изображений из этой папки.\n",
    "        limit (int): Максимальное количество изображений для загрузки.\n",
    "        size (tuple): Размер, к которому будут приведены изображения.\n",
    "\n",
    "    Returns:\n",
    "        list[tuple[np.ndarray, str]]: Список пар (HOG-признаки, метка).\n",
    "    \"\"\"\n",
    "    features_list = []\n",
    "    image_files = [f for f in os.listdir(folder_path) if f.endswith('.jpg')]\n",
    "    random.shuffle(image_files)\n",
    "    selected_files = image_files[:limit]\n",
    "\n",
    "    for filename in selected_files:\n",
    "        full_path = os.path.join(folder_path, filename)\n",
    "        img = cv2.imread(full_path, cv2.IMREAD_GRAYSCALE)\n",
    "\n",
    "        if img is None:\n",
    "            continue\n",
    "\n",
    "        img = cv2.resize(img, size)\n",
    "        features = hog(\n",
    "            img,\n",
    "            orientations=9,\n",
    "            pixels_per_cell=(8, 8),\n",
    "            cells_per_block=(2, 2),\n",
    "            block_norm='L2-Hys',\n",
    "            visualize=False\n",
    "        )\n",
    "        features_list.append((features, label))\n",
    "\n",
    "    return features_list\n",
    "\n",
    "\n",
    "def prepare_training_data_hog(\n",
    "    data_root: str = \"data\",\n",
    "    limit_per_class: int = 20\n",
    ") -> tuple[np.ndarray, np.ndarray]:\n",
    "    \"\"\"\n",
    "    Подготавливает обучающие данные: загружает изображения и извлекает HOG-признаки.\n",
    "\n",
    "    Args:\n",
    "        data_root (str): Корневая директория с подпапками по классам.\n",
    "        limit_per_class (int): Максимальное количество изображений на класс.\n",
    "\n",
    "    Returns:\n",
    "        tuple[np.ndarray, np.ndarray]: Массив признаков X и массив меток y.\n",
    "    \"\"\"\n",
    "    all_data = []\n",
    "\n",
    "    for label in os.listdir(data_root):\n",
    "        folder_path = os.path.join(data_root, label)\n",
    "\n",
    "        if os.path.isdir(folder_path):\n",
    "            samples = load_images_from_folder_hog(folder_path, label, limit=limit_per_class)\n",
    "            all_data.extend(samples)\n",
    "\n",
    "    X = np.array([x for x, _ in all_data])\n",
    "    y = np.array([y for _, y in all_data])\n",
    "\n",
    "    return X, y\n",
    "\n",
    "\n",
    "def train_knn_classifier(\n",
    "    X: np.ndarray,\n",
    "    y: np.ndarray,\n",
    "    n_neighbors: int = 3\n",
    ") -> KNeighborsClassifier:\n",
    "    \"\"\"\n",
    "    Обучает KNN-классификатор на переданных данных.\n",
    "\n",
    "    Args:\n",
    "        X (np.ndarray): Массив признаков.\n",
    "        y (np.ndarray): Массив меток.\n",
    "        n_neighbors (int): Количество соседей для KNN.\n",
    "\n",
    "    Returns:\n",
    "        KNeighborsClassifier: Обученный классификатор.\n",
    "    \"\"\"\n",
    "    knn = KNeighborsClassifier(n_neighbors=n_neighbors, metric='cosine')\n",
    "    knn.fit(X, y)\n",
    "    return knn\n",
    "\n",
    "\n",
    "# --- Основной процесс обучения ---\n",
    "X_hog, y_hog = prepare_training_data_hog(data_root=\"data\", limit_per_class=20)\n",
    "knn_hog = train_knn_classifier(X_hog, y_hog, n_neighbors=3)\n",
    "\n",
    "acc = knn_hog.score(X_hog, y_hog)\n",
    "print(f\"Точность на отложенной выборке: {acc:.3f}\")"
   ]
  },
  {
   "cell_type": "markdown",
   "metadata": {},
   "source": [
    "# e. Выполните классификацию последовательности символов шага с."
   ]
  },
  {
   "cell_type": "code",
   "execution_count": 6,
   "metadata": {},
   "outputs": [
    {
     "name": "stdout",
     "output_type": "stream",
     "text": [
      "Сгенерированное выражение: (4times9)\n"
     ]
    },
    {
     "data": {
      "image/png": "[encoded data removed]",
      "text/plain": [
       "<Figure size 1500x500 with 1 Axes>"
      ]
     },
     "metadata": {},
     "output_type": "display_data"
    },
    {
     "data": {
      "image/png": "[encoded data removed]",
      "text/plain": [
       "<Figure size 2000x400 with 5 Axes>"
      ]
     },
     "metadata": {},
     "output_type": "display_data"
    },
    {
     "name": "stdout",
     "output_type": "stream",
     "text": [
      "Распознанное выражение: 04times9)\n"
     ]
    }
   ],
   "source": [
    "def classify_symbol_image_hog(\n",
    "    knn_model: KNeighborsClassifier,\n",
    "    img: Image.Image,\n",
    "    size: tuple[int, int] = (45, 45)\n",
    ") -> str:\n",
    "    \"\"\"\n",
    "    Классифицирует изображение символа с использованием обученного KNN-модели.\n",
    "\n",
    "    Args:\n",
    "        knn_model (KNeighborsClassifier): Обученная модель классификации.\n",
    "        img (Image.Image): Изображение символа в формате PIL.\n",
    "        size (tuple): Размер, к которому будет приведено изображение.\n",
    "\n",
    "    Returns:\n",
    "        str: Предсказанная метка символа.\n",
    "    \"\"\"\n",
    "    # Конвертируем PIL Image в numpy array\n",
    "    img_np = np.array(img)\n",
    "\n",
    "    # Если изображение цветное — конвертируем в grayscale\n",
    "    if len(img_np.shape) == 3:\n",
    "        img_np = cv2.cvtColor(img_np, cv2.COLOR_RGB2GRAY)\n",
    "\n",
    "    img_resized = cv2.resize(img_np, size)\n",
    "\n",
    "    features = hog(\n",
    "        img_resized,\n",
    "        orientations=9,\n",
    "        pixels_per_cell=(8, 8),\n",
    "        cells_per_block=(2, 2),\n",
    "        block_norm='L2-Hys',\n",
    "        visualize=False\n",
    "    )\n",
    "\n",
    "    features = features.reshape(1, -1)\n",
    "    prediction = knn_model.predict(features)\n",
    "\n",
    "    return prediction[0]\n",
    "\n",
    "\n",
    "def classify_expression_image(\n",
    "    knn_model: KNeighborsClassifier,\n",
    "    expression: list[str]\n",
    ") -> str:\n",
    "    \"\"\"\n",
    "    Распознаёт каждое изображение символа в выражении и выводит результат.\n",
    "\n",
    "    Args:\n",
    "        knn_model (KNeighborsClassifier): Обученная модель классификации.\n",
    "        expression (list[str]): Список символов, представляющих выражение.\n",
    "\n",
    "    Returns:\n",
    "        str: Строка, содержащая распознанные символы.\n",
    "    \"\"\"\n",
    "    images = []\n",
    "    labels = []\n",
    "    predicted = []\n",
    "\n",
    "    for symbol in expression:\n",
    "        try:\n",
    "            img = get_random_image(symbol)\n",
    "            label = classify_symbol_image_hog(knn_model, img)\n",
    "\n",
    "            predicted.append(label)\n",
    "            images.append(np.array(img))\n",
    "            labels.append((symbol, label))\n",
    "\n",
    "        except ValueError as e:\n",
    "            print(f\"Ошибка для символа {symbol}: {str(e)}\")\n",
    "            predicted.append('?')\n",
    "            continue\n",
    "\n",
    "    n_images = len(images)\n",
    "    fig, axes = plt.subplots(1, n_images, figsize=(n_images * 4, 4))\n",
    "\n",
    "    if n_images == 1:\n",
    "        axes = [axes]\n",
    "\n",
    "    for ax, img, (symbol, label) in zip(axes, images, labels):\n",
    "        ax.imshow(img, cmap='gray')\n",
    "        ax.set_title(f'Символ: {symbol}\\nПредсказано: {label}')\n",
    "        ax.axis('off')\n",
    "\n",
    "    plt.tight_layout()\n",
    "    plt.show()\n",
    "\n",
    "    return ''.join(predicted)\n",
    "\n",
    "\n",
    "# --- Пример использования ---\n",
    "if __name__ == \"__main__\":\n",
    "    expr = generate_expression()\n",
    "    expr_str = ''.join(expr)\n",
    "    print(\"Сгенерированное выражение:\", expr_str)\n",
    "\n",
    "    # Показываем изображение выражения\n",
    "    expr_img = generate_expression_with_images(expr)\n",
    "\n",
    "    # Распознаём выражение посимвольно\n",
    "    recognized_expr = classify_expression_image(knn_hog, expr)\n",
    "    print(\"Распознанное выражение:\", recognized_expr)"
   ]
  },
  {
   "cell_type": "markdown",
   "metadata": {},
   "source": [
    "# f. При помощи регулярных строк проверьте полученное выражение на корректность."
   ]
  },
  {
   "cell_type": "code",
   "execution_count": 7,
   "metadata": {},
   "outputs": [
    {
     "name": "stdout",
     "output_type": "stream",
     "text": [
      "Сгенерированное выражение: (Xtimes3)\n",
      "\n",
      "Проверка исходного выражения:\n",
      "Выражение не прошло проверку: (Xtimes3)\n"
     ]
    },
    {
     "data": {
      "image/png": "[encoded data removed]",
      "text/plain": [
       "<Figure size 1500x500 with 1 Axes>"
      ]
     },
     "metadata": {},
     "output_type": "display_data"
    },
    {
     "data": {
      "image/png": "[encoded data removed]",
      "text/plain": [
       "<Figure size 2000x400 with 5 Axes>"
      ]
     },
     "metadata": {},
     "output_type": "display_data"
    },
    {
     "name": "stdout",
     "output_type": "stream",
     "text": [
      "\n",
      "Распознанное выражение: (timestimes3)\n",
      "\n",
      "Проверка распознанного выражения:\n",
      "Выражение не прошло проверку: (timestimes3)\n",
      "\n",
      "Сравнение результатов:\n",
      "Исходное выражение: (Xtimes3)\n",
      "Распознанное выражение: (timestimes3)\n",
      "Выражения не совпадают\n"
     ]
    }
   ],
   "source": [
    "import re\n",
    "from typing import Literal\n",
    "\n",
    "\n",
    "def check_expression_regex(expr: str) -> bool:\n",
    "    \"\"\"\n",
    "    Проверяет корректность формата выражения с помощью регулярного выражения.\n",
    "\n",
    "    Формат выражения:\n",
    "        [опциональная '('] + [операнд] + [операция] + [операнд] + [опциональная ')']\n",
    "    \n",
    "    Операнды могут содержать: цифры (0-9), h, w, X, y.\n",
    "    Операции: +, -, times.\n",
    "\n",
    "    Args:\n",
    "        expr (str): Выражение для проверки.\n",
    "\n",
    "    Returns:\n",
    "        bool: True, если выражение соответствует шаблону, иначе False.\n",
    "    \"\"\"\n",
    "    # Регулярное выражение для валидации выражения\n",
    "    pattern = re.compile(r'^$(?:[0-9hwXy]+)(\\+|\\-|times)([0-9hwXy]+)\\)?$')\n",
    "\n",
    "    match = pattern.match(expr)\n",
    "\n",
    "    if match:\n",
    "        left, op, right = match.groups()\n",
    "        print(f\"Выражение корректно: {expr}\")\n",
    "        print(f\"    Левый операнд: {left}\")\n",
    "        print(f\"    Операция: {op}\")\n",
    "        print(f\"    Правый операнд: {right}\")\n",
    "        return True\n",
    "\n",
    "    else:\n",
    "        print(f\"Выражение не прошло проверку: {expr}\")\n",
    "        return False\n",
    "\n",
    "\n",
    "# --- Пример использования ---\n",
    "if __name__ == \"__main__\":\n",
    "    # Генерируем выражение\n",
    "    expr = generate_expression()\n",
    "    expr_str = ''.join(expr)\n",
    "    print(\"Сгенерированное выражение:\", expr_str)\n",
    "\n",
    "    # Проверяем исходное выражение\n",
    "    print(\"\\nПроверка исходного выражения:\")\n",
    "    is_valid = check_expression_regex(expr_str)\n",
    "\n",
    "    # Отображаем изображение выражения\n",
    "    expr_img = generate_expression_with_images(expr)\n",
    "\n",
    "    # Распознаём выражение посимвольно\n",
    "    recognized_expr = classify_expression_image(knn_hog, expr)\n",
    "    print(\"\\nРаспознанное выражение:\", recognized_expr)\n",
    "\n",
    "    # Проверяем распознанное выражение\n",
    "    print(\"\\nПроверка распознанного выражения:\")\n",
    "    is_recognized_valid = check_expression_regex(recognized_expr)\n",
    "\n",
    "    # Сравниваем результаты\n",
    "    print(\"\\nСравнение результатов:\")\n",
    "    print(f\"Исходное выражение: {expr_str}\")\n",
    "    print(f\"Распознанное выражение: {recognized_expr}\")\n",
    "    print(f\"Выражения {'совпадают' if expr_str == recognized_expr else 'не совпадают'}\")"
   ]
  },
  {
   "cell_type": "markdown",
   "metadata": {},
   "source": [
    "## g.\tЕсли выражение корректно, вычислите результат, закодированный арифметическим выражением."
   ]
  },
  {
   "cell_type": "code",
   "execution_count": 8,
   "metadata": {},
   "outputs": [
    {
     "name": "stdout",
     "output_type": "stream",
     "text": [
      "Сгенерированная последовательность символов: (Xtimes3)\n",
      "Ошибка валидации выражения: Не найден арифметический оператор в выражении\n"
     ]
    }
   ],
   "source": [
    "# Вывод последовательности\n",
    "expression = ''.join(expr)\n",
    "print(\"Сгенерированная последовательность символов:\", expression)\n",
    "\n",
    "# Проверка и вычисление результата\n",
    "try:\n",
    "    # Удаляем скобки, если они есть\n",
    "    clean_expression = expression.replace('(', '').replace(')', '')\n",
    "\n",
    "    # Определяем оператор с учетом приоритета (в порядке убывания ожидаемой частоты)\n",
    "    op = None\n",
    "    for operator in ['+', '-', '*', '/']:\n",
    "        if operator in clean_expression:\n",
    "            op = operator\n",
    "            break\n",
    "\n",
    "    if op is None:\n",
    "        raise ValueError(\"Не найден арифметический оператор в выражении\")\n",
    "\n",
    "    # Разделяем на операнды\n",
    "    parts = clean_expression.split(op)\n",
    "    if len(parts) != 2:\n",
    "        raise ValueError(\"Выражение должно содержать ровно два числа и один оператор\")\n",
    "\n",
    "    num1_str, num2_str = parts\n",
    "    num1 = int(num1_str.strip())\n",
    "    num2 = int(num2_str.strip())\n",
    "\n",
    "    # Выполняем операцию\n",
    "    if op == '+':\n",
    "        result = num1 + num2\n",
    "    elif op == '-':\n",
    "        result = num1 - num2\n",
    "    elif op == '*':\n",
    "        result = num1 * num2\n",
    "    elif op == '/':\n",
    "        if num2 == 0:\n",
    "            raise ZeroDivisionError(\"Деление на ноль\")\n",
    "        result = num1 / num2\n",
    "\n",
    "    print(f\"Результат: {num1} {op} {num2} = {result}\")\n",
    "\n",
    "except ValueError as ve:\n",
    "    print(\"Ошибка валидации выражения:\", ve)\n",
    "except ZeroDivisionError as zde:\n",
    "    print(\"Ошибка выполнения выражения:\", zde)\n",
    "except Exception as e:\n",
    "    print(\"Произошла неожиданная ошибка при обработке выражения\")\n",
    "    print(f\"Детали ошибки: {e}\")"
   ]
  },
  {
   "cell_type": "markdown",
   "metadata": {},
   "source": [
    "# 2. Кодирование исходного сгенерированного файла"
   ]
  },
  {
   "cell_type": "code",
   "execution_count": 9,
   "metadata": {},
   "outputs": [
    {
     "name": "stdout",
     "output_type": "stream",
     "text": [
      "Сгенерированное выражение: h-5)\n"
     ]
    },
    {
     "data": {
      "image/png": "[encoded data removed]",
      "text/plain": [
       "<Figure size 1500x500 with 1 Axes>"
      ]
     },
     "metadata": {},
     "output_type": "display_data"
    },
    {
     "name": "stdout",
     "output_type": "stream",
     "text": [
      "Изображение сохранено в saved_pic.png\n"
     ]
    },
    {
     "data": {
      "image/jpeg": "[encoded data removed]",
      "image/png": "[encoded data removed]",
      "text/plain": [
       "<PIL.Image.Image image mode=RGB size=180x45>"
      ]
     },
     "execution_count": 9,
     "metadata": {},
     "output_type": "execute_result"
    }
   ],
   "source": [
    "# Генерируем случайное выражение\n",
    "expr = generate_expression()\n",
    "expr_str = ''.join(expr)\n",
    "print(f\"Сгенерированное выражение: {expr_str}\")\n",
    "\n",
    "# Генерируем изображение выражения и сохраняем его\n",
    "image_path = 'saved_pic.png'\n",
    "generate_expression_with_images(expr, save_path=image_path)"
   ]
  },
  {
   "cell_type": "code",
   "execution_count": 10,
   "metadata": {},
   "outputs": [
    {
     "data": {
      "image/png": "[encoded data removed]",
      "text/plain": [
       "<Figure size 600x600 with 1 Axes>"
      ]
     },
     "metadata": {},
     "output_type": "display_data"
    }
   ],
   "source": [
    "# Загружаем изображение\n",
    "img = cv2.imread('saved_pic.png')\n",
    "\n",
    "# Преобразуем в градации серого\n",
    "img_gray = cv2.cvtColor(img, cv2.COLOR_BGR2GRAY)\n",
    "\n",
    "# Применяем эрозию для уменьшения мелких шумов\n",
    "kernel = np.ones((1, 1), np.uint8)\n",
    "img_gray = cv2.erode(img_gray, kernel, iterations=1)\n",
    "\n",
    "# Инвертируем изображение (чтобы символы были белыми на черном фоне)\n",
    "img_gray = cv2.bitwise_not(img_gray)\n",
    "\n",
    "# Добавляем небольшое обрамление вокруг изображения\n",
    "padding = 3\n",
    "base_size = (img_gray.shape[0] + 2 * padding, img_gray.shape[1] + 2 * padding)\n",
    "base = np.zeros(base_size, dtype=np.uint8)\n",
    "\n",
    "# Вставляем исходное изображение по центру с отступами\n",
    "base[padding:padding + img_gray.shape[0], padding:padding + img_gray.shape[1]] = img_gray\n",
    "\n",
    "# Преобразуем в RGB для отображения через matplotlib\n",
    "img_rgb = cv2.cvtColor(base, cv2.COLOR_GRAY2RGB)\n",
    "\n",
    "# Отображаем результат\n",
    "plt.figure(figsize=(6, 6))\n",
    "plt.imshow(img_rgb)\n",
    "plt.title(\"Обработанное изображение выражения\")\n",
    "plt.axis('off')\n",
    "plt.show()"
   ]
  },
  {
   "cell_type": "code",
   "execution_count": 11,
   "metadata": {},
   "outputs": [
    {
     "name": "stdout",
     "output_type": "stream",
     "text": [
      "Размеры бинаризованного изображения: (51, 186, 3)\n"
     ]
    },
    {
     "data": {
      "image/png": "[encoded data removed]",
      "text/plain": [
       "<Figure size 600x600 with 1 Axes>"
      ]
     },
     "metadata": {},
     "output_type": "display_data"
    }
   ],
   "source": [
    "# Применяем пороговую бинаризацию к изображению\n",
    "ret_value, thresh_image = cv2.threshold(img_rgb, thresh=127, maxval=255, type=cv2.THRESH_BINARY)\n",
    "\n",
    "# Для совместимости: гарантируем тип uint8\n",
    "thresh_image = np.uint8(thresh_image)\n",
    "\n",
    "# Выводим размерность для дебага\n",
    "print(f\"Размеры бинаризованного изображения: {thresh_image.shape}\")\n",
    "\n",
    "# Отображаем результат\n",
    "plt.figure(figsize=(6, 6))\n",
    "plt.imshow(thresh_image)\n",
    "plt.title(\"Бинаризованное изображение\")\n",
    "plt.axis('off')\n",
    "plt.show()"
   ]
  },
  {
   "cell_type": "code",
   "execution_count": 12,
   "metadata": {},
   "outputs": [
    {
     "data": {
      "image/png": "[encoded data removed]",
      "text/plain": [
       "<Figure size 600x600 with 1 Axes>"
      ]
     },
     "metadata": {},
     "output_type": "display_data"
    },
    {
     "name": "stdout",
     "output_type": "stream",
     "text": [
      "Координаты найденных областей: [(93, 7, 45, 37), (154, 3, 12, 45), (15, 3, 21, 45)]\n"
     ]
    }
   ],
   "source": [
    "# Найдём внешние контуры на первом канале бинаризованного изображения\n",
    "contours, _ = cv2.findContours(\n",
    "    thresh_image[:, :, 0], \n",
    "    mode=cv2.RETR_EXTERNAL, \n",
    "    method=cv2.CHAIN_APPROX_SIMPLE\n",
    ")\n",
    "\n",
    "crops = []\n",
    "for i, cnt in enumerate(contours):\n",
    "    area = cv2.contourArea(cnt)\n",
    "    x, y, w, h = cv2.boundingRect(cnt)\n",
    "\n",
    "    # Фильтруем слишком маленькие области\n",
    "    if w * h > 50:\n",
    "        # Рисуем прямоугольник на изображении\n",
    "        cv2.rectangle(img_rgb, (x, y), (x + w, y + h), color=(0, 255, 0), thickness=1)  # зелёный цвет\n",
    "\n",
    "        # Бинаризуем обрезанный участок (можно использовать как признаки для классификации)\n",
    "        _, cropped_thresh = cv2.threshold(\n",
    "            img_gray[y:y+h, x:x+w],\n",
    "            thresh=127,\n",
    "            maxval=255,\n",
    "            type=cv2.THRESH_BINARY\n",
    "        )\n",
    "\n",
    "        crops.append((x, y, w, h))  # Сохраняем координаты обрезанной области\n",
    "\n",
    "# Конвертируем обратно в RGB для корректного отображения через matplotlib\n",
    "img_bgr_to_rgb = cv2.cvtColor(img_rgb, cv2.COLOR_BGR2RGB)\n",
    "\n",
    "# Отображаем результат\n",
    "plt.figure(figsize=(6, 6))\n",
    "plt.imshow(img_bgr_to_rgb)\n",
    "plt.title(\"Изображение с найденными контурами\")\n",
    "plt.axis('off')\n",
    "plt.show()\n",
    "\n",
    "print(\"Координаты найденных областей:\", crops)"
   ]
  },
  {
   "cell_type": "code",
   "execution_count": 13,
   "metadata": {},
   "outputs": [
    {
     "data": {
      "image/png": "[encoded data removed]",
      "text/plain": [
       "<Figure size 200x200 with 1 Axes>"
      ]
     },
     "metadata": {},
     "output_type": "display_data"
    },
    {
     "data": {
      "image/png": "[encoded data removed]",
      "text/plain": [
       "<Figure size 200x200 with 1 Axes>"
      ]
     },
     "metadata": {},
     "output_type": "display_data"
    },
    {
     "data": {
      "image/png": "[encoded data removed]",
      "text/plain": [
       "<Figure size 200x200 with 1 Axes>"
      ]
     },
     "metadata": {},
     "output_type": "display_data"
    }
   ],
   "source": [
    "data_img = []\n",
    "\n",
    "for i, (x, y, w, h) in enumerate(crops):\n",
    "    # Расширяем границы области для лучшего контекста\n",
    "    x -= 3\n",
    "    y -= 3\n",
    "    w += 5\n",
    "    h += 3\n",
    "\n",
    "    # Обрезаем участок изображения с учетом новых границ\n",
    "    cropped_img = img_gray[y:y+h, x:x+w]\n",
    "\n",
    "    # Создаём новый холст с дополнительными отступами по краям\n",
    "    base_height = cropped_img.shape[0] + 2\n",
    "    base_width = cropped_img.shape[1] + 30\n",
    "    base = np.zeros((base_height, base_width), dtype=np.uint8)\n",
    "\n",
    "    # Вставляем изображение по центру с горизонтальным смещением\n",
    "    padding_left_right = 15\n",
    "    base[1:cropped_img.shape[0]+1, padding_left_right:padding_left_right+cropped_img.shape[1]] = cropped_img\n",
    "\n",
    "    # Добавляем результат в список данных\n",
    "    data_img.append((x, base))\n",
    "\n",
    "    # Отображаем изображение для проверки\n",
    "    plt.figure(figsize=(2, 2))\n",
    "    plt.imshow(base, cmap=\"gray\")\n",
    "    plt.title(f\"Символ {i+1}\")\n",
    "    plt.axis(\"off\")\n",
    "    plt.show()"
   ]
  },
  {
   "cell_type": "markdown",
   "metadata": {},
   "source": [
    "# Бинарная строка"
   ]
  },
  {
   "cell_type": "code",
   "execution_count": 14,
   "metadata": {},
   "outputs": [
    {
     "name": "stdout",
     "output_type": "stream",
     "text": [
      "Сгенерированное выражение: (7-4)\n"
     ]
    },
    {
     "data": {
      "image/png": "[encoded data removed]",
      "text/plain": [
       "<Figure size 1500x500 with 1 Axes>"
      ]
     },
     "metadata": {},
     "output_type": "display_data"
    },
    {
     "name": "stdout",
     "output_type": "stream",
     "text": [
      "Изображение сохранено в saved_pic1.png\n",
      "\n",
      "Бинарная строка (первые 500 символов):\n",
      "11111111111111111111111100011111111111111111111111111111111111111111111100000111111111111111111111111111111111111111111111111111111111111111111111111111111111011111111111111111111111111111111111111111011111111111111111111111111111111111111111111111101111111111111111111111111111111100011111000000011110111111111111111111111111111111111111111111111111111111111111111111111111111111111011111111111111111111111111111111111111111101111111111111111111111111111111111111111111111011111111111111111111111111...\n"
     ]
    }
   ],
   "source": [
    "def image_to_binary_string(image: Image.Image | np.ndarray) -> str:\n",
    "    \"\"\"\n",
    "    Преобразует изображение (PIL.Image или NumPy array) в бинарную строку.\n",
    "\n",
    "    Изображение сначала конвертируется в градации серого, затем применяется \n",
    "    пороговое преобразование (128), после чего пиксели выстраиваются в строку '0' и '1'.\n",
    "\n",
    "    Args:\n",
    "        image (Image.Image or np.ndarray): Входное изображение (RGB, BGR или grayscale).\n",
    "\n",
    "    Returns:\n",
    "        str: Бинарная строка, представляющая изображение.\n",
    "    \"\"\"\n",
    "    # Конвертация PIL Image в numpy array\n",
    "    if isinstance(image, Image.Image):\n",
    "        image_np = np.array(image)\n",
    "    else:\n",
    "        image_np = image\n",
    "\n",
    "    # Если изображение цветное — переводим в оттенки серого\n",
    "    if len(image_np.shape) == 3:\n",
    "        gray_image = cv2.cvtColor(image_np, cv2.COLOR_RGB2GRAY)\n",
    "    else:\n",
    "        gray_image = image_np\n",
    "\n",
    "    # Применяем пороговое преобразование\n",
    "    _, binary_image = cv2.threshold(gray_image, thresh=128, maxval=1, type=cv2.THRESH_BINARY)\n",
    "\n",
    "    # Преобразуем массив в одномерный и создаём строку из 0 и 1\n",
    "    binary_string = ''.join(str(bit) for bit in binary_image.flatten())\n",
    "\n",
    "    return binary_string\n",
    "\n",
    "\n",
    "# --- Пример использования ---\n",
    "if __name__ == \"__main__\":\n",
    "    # Генерируем выражение и сохраняем как изображение\n",
    "    expr = generate_expression()\n",
    "    print(f\"Сгенерированное выражение: {''.join(expr)}\")\n",
    "    \n",
    "    pic = generate_expression_with_images(expr, save_path='saved_pic1.png')\n",
    "\n",
    "    # Преобразуем изображение в бинарную строку\n",
    "    binary_str = image_to_binary_string(pic)\n",
    "\n",
    "    # Выводим результат\n",
    "    print(f\"\\nБинарная строка (первые 500 символов):\\n{binary_str[:500]}...\")"
   ]
  }
 ],
 "metadata": {
  "kernelspec": {
   "display_name": ".venv",
   "language": "python",
   "name": "python3"
  },
  "language_info": {
   "codemirror_mode": {
    "name": "ipython",
    "version": 3
   },
   "file_extension": ".py",
   "mimetype": "text/x-python",
   "name": "python",
   "nbconvert_exporter": "python",
   "pygments_lexer": "ipython3",
   "version": "3.11.9"
  }
 },
 "nbformat": 4,
 "nbformat_minor": 2
}
